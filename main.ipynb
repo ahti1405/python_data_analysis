{
 "cells": [
  {
   "cell_type": "code",
   "execution_count": 1,
   "id": "4efbc8a8",
   "metadata": {},
   "outputs": [
    {
     "data": {
      "text/plain": [
       "'/Users/aktanbekaidarov/Desktop/dae/python_data_analysis'"
      ]
     },
     "execution_count": 1,
     "metadata": {},
     "output_type": "execute_result"
    }
   ],
   "source": [
    "%pwd"
   ]
  },
  {
   "cell_type": "code",
   "execution_count": 2,
   "id": "65a8ae93",
   "metadata": {},
   "outputs": [
    {
     "name": "stdout",
     "output_type": "stream",
     "text": [
      "main.ipynb  \u001b[34mvenv\u001b[m\u001b[m/\r\n"
     ]
    }
   ],
   "source": [
    "ls"
   ]
  },
  {
   "cell_type": "code",
   "execution_count": 4,
   "id": "6c2dfb8c",
   "metadata": {},
   "outputs": [
    {
     "name": "stdout",
     "output_type": "stream",
     "text": [
      "hey jupyter, what's up!\n"
     ]
    }
   ],
   "source": [
    "print(\"hey jupyter, what's up!\")"
   ]
  },
  {
   "cell_type": "code",
   "execution_count": 8,
   "id": "f2b97cb5",
   "metadata": {},
   "outputs": [
    {
     "name": "stdout",
     "output_type": "stream",
     "text": [
      "0\n",
      "Ahti\n",
      "1\n",
      "Zak\n",
      "2\n",
      "Nurli\n"
     ]
    }
   ],
   "source": [
    "names = [\"Ahti\", \"Zak\", \"Nurli\"]\n",
    "for i, name in enumerate(names):\n",
    "    print(i)\n",
    "    print(name)"
   ]
  },
  {
   "cell_type": "code",
   "execution_count": 9,
   "id": "c5af563b",
   "metadata": {},
   "outputs": [
    {
     "data": {
      "text/plain": [
       "[0, 1, 2, 2, 4]"
      ]
     },
     "execution_count": 9,
     "metadata": {},
     "output_type": "execute_result"
    }
   ],
   "source": [
    "nums = [1,4,2,0,2]\n",
    "sorted(nums)"
   ]
  },
  {
   "cell_type": "code",
   "execution_count": 11,
   "id": "6e045af6",
   "metadata": {},
   "outputs": [],
   "source": [
    "nums.sort()"
   ]
  },
  {
   "cell_type": "code",
   "execution_count": 12,
   "id": "02d6c648",
   "metadata": {},
   "outputs": [
    {
     "data": {
      "text/plain": [
       "[0, 1, 2, 2, 4]"
      ]
     },
     "execution_count": 12,
     "metadata": {},
     "output_type": "execute_result"
    }
   ],
   "source": [
    "nums"
   ]
  },
  {
   "cell_type": "code",
   "execution_count": 13,
   "id": "7281fd7f",
   "metadata": {},
   "outputs": [],
   "source": [
    "seq1 = [\"foo\", \"bar\", \"baz\"]\n",
    "seq2 = [1, 2, 3]\n",
    "zipped = zip(seq1, seq2)"
   ]
  },
  {
   "cell_type": "code",
   "execution_count": 16,
   "id": "25e3be93",
   "metadata": {},
   "outputs": [
    {
     "data": {
      "text/plain": [
       "[('foo', 1), ('bar', 2), ('baz', 3)]"
      ]
     },
     "execution_count": 16,
     "metadata": {},
     "output_type": "execute_result"
    }
   ],
   "source": [
    "list(zipped)"
   ]
  },
  {
   "cell_type": "code",
   "execution_count": 1,
   "id": "dfdf21af",
   "metadata": {},
   "outputs": [
    {
     "name": "stdout",
     "output_type": "stream",
     "text": [
      "0: Aktanbek - ahti\n",
      "1: Zalkarbek - zak\n",
      "2: Nurlanbek - nurli\n"
     ]
    }
   ],
   "source": [
    "name1 = ['ahti', 'zak', 'nurli']\n",
    "name2 = ['Aktanbek', 'Zalkarbek', 'Nurlanbek']\n",
    "for index, (a, b) in enumerate(zip(name1, name2)):\n",
    "    print(f\"{index}: {b} - {a}\")"
   ]
  },
  {
   "cell_type": "code",
   "execution_count": 13,
   "id": "ebcf495f",
   "metadata": {},
   "outputs": [],
   "source": [
    "name3 = reversed(name1)"
   ]
  },
  {
   "cell_type": "code",
   "execution_count": 14,
   "id": "200cc608",
   "metadata": {},
   "outputs": [],
   "source": [
    "a = list(name3)"
   ]
  },
  {
   "cell_type": "code",
   "execution_count": 15,
   "id": "23bb6089",
   "metadata": {},
   "outputs": [
    {
     "data": {
      "text/plain": [
       "['nurli', 'zak', 'ahti']"
      ]
     },
     "execution_count": 15,
     "metadata": {},
     "output_type": "execute_result"
    }
   ],
   "source": [
    "a"
   ]
  },
  {
   "cell_type": "code",
   "execution_count": 16,
   "id": "68f3acc2",
   "metadata": {},
   "outputs": [
    {
     "data": {
      "text/plain": [
       "['nurli', 'zak', 'ahti']"
      ]
     },
     "execution_count": 16,
     "metadata": {},
     "output_type": "execute_result"
    }
   ],
   "source": [
    "a"
   ]
  },
  {
   "cell_type": "code",
   "execution_count": 17,
   "id": "60d2b455",
   "metadata": {},
   "outputs": [
    {
     "data": {
      "text/plain": [
       "[]"
      ]
     },
     "execution_count": 17,
     "metadata": {},
     "output_type": "execute_result"
    }
   ],
   "source": [
    "list(name3)"
   ]
  },
  {
   "cell_type": "code",
   "execution_count": 18,
   "id": "ddc7374d",
   "metadata": {},
   "outputs": [
    {
     "data": {
      "text/plain": [
       "['nurli', 'zak', 'ahti']"
      ]
     },
     "execution_count": 18,
     "metadata": {},
     "output_type": "execute_result"
    }
   ],
   "source": [
    "a"
   ]
  },
  {
   "cell_type": "code",
   "execution_count": 20,
   "id": "81714d12",
   "metadata": {},
   "outputs": [
    {
     "name": "stdout",
     "output_type": "stream",
     "text": [
      "ahti\n",
      "zak\n",
      "nurli\n"
     ]
    }
   ],
   "source": [
    "for i in reversed(a):\n",
    "    print(i)"
   ]
  },
  {
   "cell_type": "code",
   "execution_count": 27,
   "id": "378bfd03",
   "metadata": {},
   "outputs": [],
   "source": [
    "name4 = ['ahti', 'zak', 'nurli', 'beka', 'sheki', 'shukurullo']\n",
    "unique_len = {len(name) for name in name4}"
   ]
  },
  {
   "cell_type": "code",
   "execution_count": 28,
   "id": "4bdb1cdb",
   "metadata": {},
   "outputs": [
    {
     "data": {
      "text/plain": [
       "{3, 4, 5, 10}"
      ]
     },
     "execution_count": 28,
     "metadata": {},
     "output_type": "execute_result"
    }
   ],
   "source": [
    "unique_len"
   ]
  },
  {
   "cell_type": "code",
   "execution_count": 29,
   "id": "1dda2924",
   "metadata": {},
   "outputs": [],
   "source": [
    "loc_mapping = {value: index for index, value in enumerate(name4)}"
   ]
  },
  {
   "cell_type": "code",
   "execution_count": 30,
   "id": "672f50cf",
   "metadata": {},
   "outputs": [
    {
     "data": {
      "text/plain": [
       "{'ahti': 0, 'zak': 1, 'nurli': 2, 'beka': 3, 'sheki': 4, 'shukurullo': 5}"
      ]
     },
     "execution_count": 30,
     "metadata": {},
     "output_type": "execute_result"
    }
   ],
   "source": [
    "loc_mapping"
   ]
  },
  {
   "cell_type": "code",
   "execution_count": 34,
   "id": "4419d001",
   "metadata": {},
   "outputs": [],
   "source": [
    "d = {'name': 'Aktanbek', 'lastname': 'Aidarov'}"
   ]
  },
  {
   "cell_type": "code",
   "execution_count": 35,
   "id": "83316b5d",
   "metadata": {},
   "outputs": [
    {
     "data": {
      "text/plain": [
       "{'name': 'Aktanbek', 'lastname': 'Aidarov'}"
      ]
     },
     "execution_count": 35,
     "metadata": {},
     "output_type": "execute_result"
    }
   ],
   "source": [
    "d"
   ]
  },
  {
   "cell_type": "code",
   "execution_count": 36,
   "id": "4aedaaa7",
   "metadata": {},
   "outputs": [],
   "source": [
    "r = {value:key for key, value in d.items()}"
   ]
  },
  {
   "cell_type": "code",
   "execution_count": 37,
   "id": "6b29c17c",
   "metadata": {},
   "outputs": [
    {
     "data": {
      "text/plain": [
       "{'Aktanbek': 'name', 'Aidarov': 'lastname'}"
      ]
     },
     "execution_count": 37,
     "metadata": {},
     "output_type": "execute_result"
    }
   ],
   "source": [
    "r"
   ]
  },
  {
   "cell_type": "code",
   "execution_count": 46,
   "id": "e17bcf52",
   "metadata": {},
   "outputs": [],
   "source": [
    "all_data = [['smart', 'samat', 'zak'], ['aktan', 'saikal', 'guzel', 'razia']]"
   ]
  },
  {
   "cell_type": "code",
   "execution_count": 39,
   "id": "2bd241fe",
   "metadata": {},
   "outputs": [
    {
     "data": {
      "text/plain": [
       "[['smart', 'samat', 'zak'], ['aktan', 'saikal', 'guzel']]"
      ]
     },
     "execution_count": 39,
     "metadata": {},
     "output_type": "execute_result"
    }
   ],
   "source": [
    "all_data"
   ]
  },
  {
   "cell_type": "code",
   "execution_count": 40,
   "id": "1bfbb657",
   "metadata": {},
   "outputs": [],
   "source": [
    "result = []\n",
    "for names in all_data:\n",
    "    enough_as = [name for name in names if name.count('a')>1]\n",
    "    result.extend(enough_as)"
   ]
  },
  {
   "cell_type": "code",
   "execution_count": 41,
   "id": "fdd89daf",
   "metadata": {},
   "outputs": [
    {
     "data": {
      "text/plain": [
       "['samat', 'aktan', 'saikal']"
      ]
     },
     "execution_count": 41,
     "metadata": {},
     "output_type": "execute_result"
    }
   ],
   "source": [
    "result"
   ]
  },
  {
   "cell_type": "code",
   "execution_count": 47,
   "id": "648f26f8",
   "metadata": {},
   "outputs": [],
   "source": [
    "output = [name for names in all_data for name in names if name.count('a') > 1]"
   ]
  },
  {
   "cell_type": "code",
   "execution_count": 48,
   "id": "c087598f",
   "metadata": {},
   "outputs": [
    {
     "data": {
      "text/plain": [
       "['samat', 'aktan', 'saikal', 'razia']"
      ]
     },
     "execution_count": 48,
     "metadata": {},
     "output_type": "execute_result"
    }
   ],
   "source": [
    "output"
   ]
  },
  {
   "cell_type": "code",
   "execution_count": null,
   "id": "e5a7073a",
   "metadata": {},
   "outputs": [],
   "source": []
  }
 ],
 "metadata": {
  "kernelspec": {
   "display_name": "Python 3 (ipykernel)",
   "language": "python",
   "name": "python3"
  },
  "language_info": {
   "codemirror_mode": {
    "name": "ipython",
    "version": 3
   },
   "file_extension": ".py",
   "mimetype": "text/x-python",
   "name": "python",
   "nbconvert_exporter": "python",
   "pygments_lexer": "ipython3",
   "version": "3.11.2"
  }
 },
 "nbformat": 4,
 "nbformat_minor": 5
}
